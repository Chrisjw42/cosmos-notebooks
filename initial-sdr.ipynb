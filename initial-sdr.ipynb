{
 "cells": [
  {
   "cell_type": "code",
   "execution_count": null,
   "id": "bb19fbc6-6d1a-4653-a7a4-bb888503c8fd",
   "metadata": {},
   "outputs": [],
   "source": [
    "import pandas as pd\n",
    "from rtlsdr import RtlSdr\n",
    "import numpy as np\n",
    "\n",
    "import plotly\n",
    "from plotly.offline import download_plotlyjs, init_notebook_mode, plot, iplot\n",
    "init_notebook_mode(connected=False)\n",
    "import plotly.express as px\n"
   ]
  },
  {
   "cell_type": "code",
   "execution_count": null,
   "id": "32746230-7442-4838-aa00-4b767ea25387",
   "metadata": {},
   "outputs": [],
   "source": [
    "def get_signal(center_freq=102.7e6, sample_rate=1e6):\n",
    "    try:\n",
    "        # close it if one was left open somewhere in the notebook\n",
    "        sdr.close()\n",
    "    except:\n",
    "        pass\n",
    "    \n",
    "    # Example code from rtlsdr\n",
    "    sdr = RtlSdr()\n",
    "    # sdr.sample_rate = 3.2e6 # Hz\n",
    "    sdr.sample_rate = sample_rate # Hz\n",
    "    sdr.center_freq = center_freq   # Hz, ~100MHz\n",
    "    sdr.freq_correction = 60  # PPM\n",
    "    print(sdr.valid_gains_db)\n",
    "    \n",
    "    # sdr.gain = 49.6\n",
    "    sdr.gain = \"auto\"\n",
    "    print(sdr.gain)\n",
    "    \n",
    "    x = sdr.read_samples(4096)\n",
    "    print(len(x))\n",
    "    #help prevent the RTL-SDR from going into a glitched out state where it needs to be unplugged/replugged\n",
    "    sdr.close()\n",
    "    return x\n",
    "\n",
    "s = get_signal()"
   ]
  },
  {
   "cell_type": "code",
   "execution_count": null,
   "id": "fa32b934-ccd2-47f0-bc38-103cb7845545",
   "metadata": {},
   "outputs": [],
   "source": [
    "df = pd.DataFrame(s, columns=[\"signal\"])\n",
    "\n",
    "# Split the signal's complex numbers into real and imaginary components\n",
    "df[\"signal_real\"] = df[\"signal\"].apply(lambda row: row.real)\n",
    "df[\"signal_imag\"] = df[\"signal\"].apply(lambda row: row.imag)\n",
    "\n",
    "print(df.shape)\n",
    "df.head()"
   ]
  },
  {
   "cell_type": "markdown",
   "id": "09aa9dd5-da21-43d1-bdfe-fb30ae096bc7",
   "metadata": {},
   "source": [
    "### The first 2048 samples are 'transients' and can be ignored\n",
    "https://pysdr.org/content/rtlsdr.html"
   ]
  },
  {
   "cell_type": "code",
   "execution_count": null,
   "id": "03d15bd6-e4e8-4aee-ae30-6066ffd7988d",
   "metadata": {},
   "outputs": [],
   "source": [
    "df_plot = df.iloc[:,1:]\n",
    "fig = px.scatter(df_plot, y=\"signal_imag\", color=\"signal_real\")\n",
    "fig.show()"
   ]
  },
  {
   "cell_type": "code",
   "execution_count": null,
   "id": "5b605fdd-02f8-485c-ae2e-5ddcd412912b",
   "metadata": {},
   "outputs": [],
   "source": [
    "df_plot = df.iloc[2048:,1:]\n",
    "fig = px.scatter(df_plot, y=\"signal_imag\", color=\"signal_real\")\n",
    "fig.show()"
   ]
  },
  {
   "cell_type": "markdown",
   "id": "aad2fa46-76e2-456c-85e6-fca7a495455a",
   "metadata": {},
   "source": [
    "# FFT\n",
    "https://pysdr.org/content/frequency_domain.html#fft-in-python"
   ]
  },
  {
   "cell_type": "markdown",
   "id": "82581f90-666d-4a0b-ab32-7b021330cbdd",
   "metadata": {},
   "source": [
    "### Simple intro"
   ]
  },
  {
   "cell_type": "code",
   "execution_count": null,
   "id": "14f35f69-79fd-4121-8d9d-659e2aca0e5a",
   "metadata": {},
   "outputs": [],
   "source": [
    "# time\n",
    "t = np.arange(1000)\n",
    "# signal\n",
    "s = np.cos(t/10)\n",
    "px.line(s)"
   ]
  },
  {
   "cell_type": "code",
   "execution_count": null,
   "id": "b8433970-bbd2-4348-8a01-986c54c96c52",
   "metadata": {},
   "outputs": [],
   "source": [
    "# signal in frequency domain\n",
    "S = np.fft.fft(s)"
   ]
  },
  {
   "cell_type": "code",
   "execution_count": null,
   "id": "53e7c705-0de0-4a8d-be8b-85672a6587a5",
   "metadata": {},
   "outputs": [],
   "source": [
    "# Interpret the complex numbers as magnitude and phase\n",
    "S_mag = np.abs(S)\n",
    "S_phase = np.angle(S)"
   ]
  },
  {
   "cell_type": "code",
   "execution_count": null,
   "id": "3f724751-cb31-45ac-a21e-bd6e7e2486a7",
   "metadata": {},
   "outputs": [],
   "source": [
    "px.line(S_mag)"
   ]
  },
  {
   "cell_type": "markdown",
   "id": "7832a7ce-10d6-4100-95a8-d7c3c7fcaa1e",
   "metadata": {},
   "source": [
    "### 'shift' the fft signal, because the it is formatted in a conveninent way in the numpy output\n",
    "The default output is [0, -ve freqs, +ve freqs], which is dumb, we want it zero centered"
   ]
  },
  {
   "cell_type": "code",
   "execution_count": null,
   "id": "b362cf3a-6491-4610-8738-b321c25d1724",
   "metadata": {},
   "outputs": [],
   "source": [
    "S = np.fft.fftshift(S)\n",
    "# Interpret the complex numbers as magnitude and phase\n",
    "S_mag = np.abs(S)\n",
    "S_phase = np.angle(S)"
   ]
  },
  {
   "cell_type": "code",
   "execution_count": null,
   "id": "70708180-3b69-44db-872a-897b4bacc900",
   "metadata": {},
   "outputs": [],
   "source": [
    "# So we see, apparently there are two signals... ?\n",
    "px.line(S_mag)"
   ]
  },
  {
   "cell_type": "markdown",
   "id": "e251cadd-d17b-4b1b-a295-7acc5256014c",
   "metadata": {},
   "source": [
    "### Using the signal"
   ]
  },
  {
   "cell_type": "code",
   "execution_count": null,
   "id": "88460c25-a2ad-42db-acbc-dbe14d6cf77e",
   "metadata": {},
   "outputs": [],
   "source": [
    "center_freq=102.7e6\n",
    "sample_rate=1e6\n",
    "\n",
    "def plot_frequency_space(center_freq=102.7e6, sample_rate=1e6):\n",
    "    # The output x axis ranges from -(x/2) to (x/2), where x is the sample rate, and 0 is centered on the target frequency\n",
    "    # In this case, it is 102.2 MHz +/- ~2 MHz\n",
    "    s = get_signal(center_freq=center_freq, sample_rate=sample_rate)\n",
    "    \n",
    "    # fft the input, and center it on 0\n",
    "    s_fft = np.fft.fftshift(np.fft.fft(s[:2048]))\n",
    "    \n",
    "    dfft = pd.DataFrame(s_fft, columns=[\"signal_fft\"])\n",
    "    \n",
    "    # Split the signal's complex numbers into real and imaginary components\n",
    "    dfft[\"signal_real_fft\"] = dfft[\"signal_fft\"].apply(lambda row: row.real)\n",
    "    dfft[\"signal_imag_fft\"] = dfft[\"signal_fft\"].apply(lambda row: row.imag)\n",
    "    \n",
    "    # Calculate magnitude and angle of the complex signal\n",
    "    dfft[\"signal_mag_fft\"] = dfft[\"signal_fft\"].apply(np.abs)\n",
    "    dfft[\"signal_angle_fft\"] = dfft[\"signal_fft\"].apply(np.angle)\n",
    "    \n",
    "    # Estimate frequencies \n",
    "    dfft[\"frequency\"] = np.linspace(center_freq-(sample_rate/2), center_freq+(sample_rate/2), dfft.shape[0])\n",
    "    \n",
    "    fig = px.scatter(dfft, x=\"frequency\", y=\"signal_mag_fft\", color=\"signal_angle_fft\")\n",
    "    fig.show()"
   ]
  },
  {
   "cell_type": "code",
   "execution_count": null,
   "id": "0dc48701-2570-4dab-af8a-a301c9f0d5ed",
   "metadata": {},
   "outputs": [],
   "source": [
    "plot_frequency_space(center_freq=99.7e6)"
   ]
  },
  {
   "cell_type": "code",
   "execution_count": null,
   "id": "dc48f62d-23c7-4bab-b792-804ce26e2c3e",
   "metadata": {},
   "outputs": [],
   "source": []
  },
  {
   "cell_type": "code",
   "execution_count": null,
   "id": "db9637c2-37c1-499a-bc64-490737018374",
   "metadata": {},
   "outputs": [],
   "source": [
    "dfft"
   ]
  },
  {
   "cell_type": "code",
   "execution_count": null,
   "id": "9d07c269-fba0-482e-adae-628874b5384c",
   "metadata": {},
   "outputs": [],
   "source": [
    "fig.update_xaxes(range=[0,1])"
   ]
  },
  {
   "cell_type": "code",
   "execution_count": null,
   "id": "6f98a046-0459-47a1-b586-646e407f4a3e",
   "metadata": {},
   "outputs": [],
   "source": [
    "# # ...\n",
    "# sdr.sample_rate = 2.4e5 # Hz\n",
    "# # ...\n",
    "\n",
    "# fft_size = 512\n",
    "# num_rows = 500\n",
    "# x = sdr.read_samples(2048) # get rid of initial empty samples\n",
    "# x = sdr.read_samples(fft_size*num_rows) # get all the samples we need for the spectrogram\n",
    "# spectrogram = np.zeros((num_rows, fft_size))\n",
    "# for i in range(num_rows):\n",
    "#     spectrogram[i,:] = 10*np.log10(np.abs(np.fft.fftshift(np.fft.fft(x[i*fft_size:(i+1)*fft_size])))**2)\n",
    "# extent = [(sdr.center_freq + sdr.sample_rate/-2)/1e6,\n",
    "#             (sdr.center_freq + sdr.sample_rate/2)/1e6,\n",
    "#             len(x)/sdr.sample_rate, 0]\n",
    "# plt.imshow(spectrogram, aspect='auto', extent=extent)\n",
    "# plt.xlabel(\"Frequency [MHz]\")\n",
    "# plt.ylabel(\"Time [s]\")\n",
    "# plt.show()"
   ]
  },
  {
   "cell_type": "code",
   "execution_count": null,
   "id": "657183f3-446c-4c17-b44d-0e0cb4283b33",
   "metadata": {},
   "outputs": [],
   "source": []
  },
  {
   "cell_type": "code",
   "execution_count": null,
   "id": "468f94e3-0162-4b99-b474-b8a59a0e8f86",
   "metadata": {},
   "outputs": [],
   "source": []
  },
  {
   "cell_type": "code",
   "execution_count": null,
   "id": "e2bdb42c-a31a-4468-8314-25fe5100f8ac",
   "metadata": {},
   "outputs": [],
   "source": []
  }
 ],
 "metadata": {
  "kernelspec": {
   "display_name": "py311 plane sailing",
   "language": "python",
   "name": "plane-sailing"
  },
  "language_info": {
   "codemirror_mode": {
    "name": "ipython",
    "version": 3
   },
   "file_extension": ".py",
   "mimetype": "text/x-python",
   "name": "python",
   "nbconvert_exporter": "python",
   "pygments_lexer": "ipython3",
   "version": "3.11.12"
  }
 },
 "nbformat": 4,
 "nbformat_minor": 5
}
