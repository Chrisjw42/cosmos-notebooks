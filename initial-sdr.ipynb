{
 "cells": [
  {
   "cell_type": "code",
   "execution_count": 1,
   "id": "94f9a187-0ce1-4bdc-88bf-4d69577e75d0",
   "metadata": {},
   "outputs": [
    {
     "name": "stderr",
     "output_type": "stream",
     "text": [
      "/home/chris/repo/plane-sailing/.venv/lib/python3.11/site-packages/rtlsdr/__init__.py:19: UserWarning: pkg_resources is deprecated as an API. See https://setuptools.pypa.io/en/latest/pkg_resources.html. The pkg_resources package is slated for removal as early as 2025-11-30. Refrain from using this package or pin to Setuptools<81.\n",
      "  import pkg_resources\n"
     ]
    }
   ],
   "source": [
    "from rtlsdr import RtlSdr"
   ]
  },
  {
   "cell_type": "code",
   "execution_count": 2,
   "id": "6742e65c-faec-4b4c-b367-b27c0fdf5472",
   "metadata": {},
   "outputs": [
    {
     "name": "stderr",
     "output_type": "stream",
     "text": [
      "Found Rafael Micro R828D tuner\n",
      "RTL-SDR Blog V4 Detected\n"
     ]
    },
    {
     "name": "stdout",
     "output_type": "stream",
     "text": [
      "1024\n"
     ]
    }
   ],
   "source": [
    "\n",
    "sdr = RtlSdr()\n",
    "sdr.sample_rate = 2.048e6 # Hz\n",
    "sdr.center_freq = 100e6   # Hz\n",
    "sdr.freq_correction = 60  # PPM\n",
    "sdr.gain = 'auto'\n",
    "\n",
    "print(len(sdr.read_samples(1024)))\n",
    "sdr.close()"
   ]
  },
  {
   "cell_type": "code",
   "execution_count": null,
   "id": "32746230-7442-4838-aa00-4b767ea25387",
   "metadata": {},
   "outputs": [],
   "source": []
  },
  {
   "cell_type": "code",
   "execution_count": null,
   "id": "c88f1d76-5455-4387-90ba-68197f4193aa",
   "metadata": {},
   "outputs": [],
   "source": []
  },
  {
   "cell_type": "code",
   "execution_count": null,
   "id": "6f98a046-0459-47a1-b586-646e407f4a3e",
   "metadata": {},
   "outputs": [],
   "source": []
  },
  {
   "cell_type": "code",
   "execution_count": null,
   "id": "657183f3-446c-4c17-b44d-0e0cb4283b33",
   "metadata": {},
   "outputs": [],
   "source": []
  }
 ],
 "metadata": {
  "kernelspec": {
   "display_name": "py311 plane sailing",
   "language": "python",
   "name": "plane-sailing"
  },
  "language_info": {
   "codemirror_mode": {
    "name": "ipython",
    "version": 3
   },
   "file_extension": ".py",
   "mimetype": "text/x-python",
   "name": "python",
   "nbconvert_exporter": "python",
   "pygments_lexer": "ipython3",
   "version": "3.11.12"
  }
 },
 "nbformat": 4,
 "nbformat_minor": 5
}
